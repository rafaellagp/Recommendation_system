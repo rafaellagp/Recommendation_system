{
 "cells": [
  {
   "cell_type": "markdown",
   "metadata": {},
   "source": [
    "# A recommantion system made by Esra, Rafaella and Olivier"
   ]
  },
  {
   "cell_type": "code",
   "execution_count": 1,
   "metadata": {},
   "outputs": [],
   "source": [
    "import pandas as pd\n",
    "import numpy as np"
   ]
  },
  {
   "cell_type": "code",
   "execution_count": 2,
   "metadata": {},
   "outputs": [],
   "source": [
    "tbasics_movies = pd.read_csv('/Users/rafaellaporto/BeCode/what-should-i-wacth/clean_data.csv')"
   ]
  },
  {
   "cell_type": "code",
   "execution_count": 3,
   "metadata": {},
   "outputs": [],
   "source": [
    "tbasics_movies['imdb_id'] = tbasics_movies['tconst']"
   ]
  },
  {
   "cell_type": "code",
   "execution_count": 4,
   "metadata": {},
   "outputs": [],
   "source": [
    "movie = pd.read_csv('/Users/rafaellaporto/BeCode/what-should-i-wacth/movies_metadata.csv', low_memory=False)"
   ]
  },
  {
   "cell_type": "code",
   "execution_count": 5,
   "metadata": {},
   "outputs": [],
   "source": [
    "movie = movie[['imdb_id', 'title', 'overview', 'genres', 'popularity']]"
   ]
  },
  {
   "cell_type": "code",
   "execution_count": 6,
   "metadata": {},
   "outputs": [
    {
     "data": {
      "text/plain": [
       "(45466, 5)"
      ]
     },
     "execution_count": 6,
     "metadata": {},
     "output_type": "execute_result"
    }
   ],
   "source": [
    "movie.shape"
   ]
  },
  {
   "cell_type": "code",
   "execution_count": 7,
   "metadata": {},
   "outputs": [
    {
     "data": {
      "text/plain": [
       "(39017, 39)"
      ]
     },
     "execution_count": 7,
     "metadata": {},
     "output_type": "execute_result"
    }
   ],
   "source": [
    "df  = tbasics_movies.merge(movie, on='imdb_id')\n",
    "df.shape"
   ]
  },
  {
   "cell_type": "markdown",
   "metadata": {},
   "source": [
    "# Demographic Filtering\n",
    "Weighted rating based Recommender"
   ]
  },
  {
   "cell_type": "code",
   "execution_count": 8,
   "metadata": {},
   "outputs": [
    {
     "name": "stdout",
     "output_type": "stream",
     "text": [
      "6.27130225286418\n"
     ]
    }
   ],
   "source": [
    "#Average Rating\n",
    "C = df['averageRating'].mean()\n",
    "print(C)"
   ]
  },
  {
   "cell_type": "code",
   "execution_count": 9,
   "metadata": {},
   "outputs": [
    {
     "name": "stdout",
     "output_type": "stream",
     "text": [
      "7781.0\n"
     ]
    }
   ],
   "source": [
    "# Calculate the minimum number of votes required to be in the chart, m\n",
    "m = df['numVotes'].quantile(0.75)\n",
    "print(m)"
   ]
  },
  {
   "cell_type": "code",
   "execution_count": 10,
   "metadata": {},
   "outputs": [
    {
     "data": {
      "text/plain": [
       "(9756, 39)"
      ]
     },
     "execution_count": 10,
     "metadata": {},
     "output_type": "execute_result"
    }
   ],
   "source": [
    "# Filter out all qualified movies into a new DataFrame\n",
    "# for a movie to feature in the charts, it must have more votes than at least 90% of the movies in the list.\n",
    "df2 = df.copy().loc[df['numVotes'] >= m]\n",
    "df2.shape"
   ]
  },
  {
   "cell_type": "code",
   "execution_count": 11,
   "metadata": {},
   "outputs": [
    {
     "data": {
      "text/plain": [
       "(9756, 39)"
      ]
     },
     "execution_count": 11,
     "metadata": {},
     "output_type": "execute_result"
    }
   ],
   "source": [
    "df2.shape"
   ]
  },
  {
   "cell_type": "code",
   "execution_count": 12,
   "metadata": {},
   "outputs": [],
   "source": [
    "# Function that computes the weighted rating of each movie\n",
    "def weighted_rating(x, m=m, C=C):\n",
    "    v = x['numVotes']\n",
    "    R = x['averageRating']\n",
    "    # Calculation based on the IMDB formula\n",
    "    return (v/(v+m) * R) + (m/(m+v) * C)"
   ]
  },
  {
   "cell_type": "code",
   "execution_count": 13,
   "metadata": {},
   "outputs": [],
   "source": [
    "# Define a new feature 'score' and calculate its value with `weighted_rating()`\n",
    "df2['score'] = df2.apply(weighted_rating, axis=1)"
   ]
  },
  {
   "cell_type": "code",
   "execution_count": 14,
   "metadata": {},
   "outputs": [
    {
     "data": {
      "text/html": [
       "<div>\n",
       "<style scoped>\n",
       "    .dataframe tbody tr th:only-of-type {\n",
       "        vertical-align: middle;\n",
       "    }\n",
       "\n",
       "    .dataframe tbody tr th {\n",
       "        vertical-align: top;\n",
       "    }\n",
       "\n",
       "    .dataframe thead th {\n",
       "        text-align: right;\n",
       "    }\n",
       "</style>\n",
       "<table border=\"1\" class=\"dataframe\">\n",
       "  <thead>\n",
       "    <tr style=\"text-align: right;\">\n",
       "      <th></th>\n",
       "      <th>tconst</th>\n",
       "      <th>primaryTitle</th>\n",
       "      <th>startYear</th>\n",
       "      <th>runtimeMinutes</th>\n",
       "      <th>averageRating</th>\n",
       "      <th>numVotes</th>\n",
       "      <th>genre_Action</th>\n",
       "      <th>genre_Adult</th>\n",
       "      <th>genre_Adventure</th>\n",
       "      <th>genre_Animation</th>\n",
       "      <th>...</th>\n",
       "      <th>genre_Talk-Show</th>\n",
       "      <th>genre_Thriller</th>\n",
       "      <th>genre_War</th>\n",
       "      <th>genre_Western</th>\n",
       "      <th>imdb_id</th>\n",
       "      <th>title</th>\n",
       "      <th>overview</th>\n",
       "      <th>genres</th>\n",
       "      <th>popularity</th>\n",
       "      <th>score</th>\n",
       "    </tr>\n",
       "  </thead>\n",
       "  <tbody>\n",
       "    <tr>\n",
       "      <th>25</th>\n",
       "      <td>tt0004972</td>\n",
       "      <td>The Birth of a Nation</td>\n",
       "      <td>1915</td>\n",
       "      <td>195</td>\n",
       "      <td>6.2</td>\n",
       "      <td>24983</td>\n",
       "      <td>False</td>\n",
       "      <td>False</td>\n",
       "      <td>False</td>\n",
       "      <td>False</td>\n",
       "      <td>...</td>\n",
       "      <td>False</td>\n",
       "      <td>False</td>\n",
       "      <td>True</td>\n",
       "      <td>False</td>\n",
       "      <td>tt0004972</td>\n",
       "      <td>The Birth of a Nation</td>\n",
       "      <td>The Birth of A Nation is a silent film from 19...</td>\n",
       "      <td>[{'id': 18, 'name': 'Drama'}, {'id': 36, 'name...</td>\n",
       "      <td>5.113205</td>\n",
       "      <td>6.216933</td>\n",
       "    </tr>\n",
       "    <tr>\n",
       "      <th>47</th>\n",
       "      <td>tt0006864</td>\n",
       "      <td>Intolerance</td>\n",
       "      <td>1916</td>\n",
       "      <td>163</td>\n",
       "      <td>7.7</td>\n",
       "      <td>15734</td>\n",
       "      <td>False</td>\n",
       "      <td>False</td>\n",
       "      <td>False</td>\n",
       "      <td>False</td>\n",
       "      <td>...</td>\n",
       "      <td>False</td>\n",
       "      <td>False</td>\n",
       "      <td>False</td>\n",
       "      <td>False</td>\n",
       "      <td>tt0006864</td>\n",
       "      <td>Intolerance: Love's Struggle Throughout the Ages</td>\n",
       "      <td>The story of a poor young woman, separated by ...</td>\n",
       "      <td>[{'id': 18, 'name': 'Drama'}]</td>\n",
       "      <td>4.282118</td>\n",
       "      <td>7.227251</td>\n",
       "    </tr>\n",
       "    <tr>\n",
       "      <th>77</th>\n",
       "      <td>tt0009968</td>\n",
       "      <td>Broken Blossoms</td>\n",
       "      <td>1919</td>\n",
       "      <td>90</td>\n",
       "      <td>7.3</td>\n",
       "      <td>10473</td>\n",
       "      <td>False</td>\n",
       "      <td>False</td>\n",
       "      <td>False</td>\n",
       "      <td>False</td>\n",
       "      <td>...</td>\n",
       "      <td>False</td>\n",
       "      <td>False</td>\n",
       "      <td>False</td>\n",
       "      <td>False</td>\n",
       "      <td>tt0009968</td>\n",
       "      <td>Broken Blossoms</td>\n",
       "      <td>Broken Blossoms is an American silent film fro...</td>\n",
       "      <td>[{'id': 18, 'name': 'Drama'}, {'id': 10749, 'n...</td>\n",
       "      <td>3.185824</td>\n",
       "      <td>6.861504</td>\n",
       "    </tr>\n",
       "    <tr>\n",
       "      <th>88</th>\n",
       "      <td>tt0010323</td>\n",
       "      <td>The Cabinet of Dr. Caligari</td>\n",
       "      <td>1920</td>\n",
       "      <td>76</td>\n",
       "      <td>8.0</td>\n",
       "      <td>64645</td>\n",
       "      <td>False</td>\n",
       "      <td>False</td>\n",
       "      <td>False</td>\n",
       "      <td>False</td>\n",
       "      <td>...</td>\n",
       "      <td>False</td>\n",
       "      <td>True</td>\n",
       "      <td>False</td>\n",
       "      <td>False</td>\n",
       "      <td>tt0010323</td>\n",
       "      <td>The Cabinet of Dr. Caligari</td>\n",
       "      <td>The Cabinet of Dr. Caligari is eerie and expre...</td>\n",
       "      <td>[{'id': 18, 'name': 'Drama'}, {'id': 27, 'name...</td>\n",
       "      <td>7.191271</td>\n",
       "      <td>7.814279</td>\n",
       "    </tr>\n",
       "    <tr>\n",
       "      <th>97</th>\n",
       "      <td>tt0011237</td>\n",
       "      <td>The Golem</td>\n",
       "      <td>1920</td>\n",
       "      <td>76</td>\n",
       "      <td>7.2</td>\n",
       "      <td>7867</td>\n",
       "      <td>False</td>\n",
       "      <td>False</td>\n",
       "      <td>False</td>\n",
       "      <td>False</td>\n",
       "      <td>...</td>\n",
       "      <td>False</td>\n",
       "      <td>False</td>\n",
       "      <td>False</td>\n",
       "      <td>False</td>\n",
       "      <td>tt0011237</td>\n",
       "      <td>The Golem: How He Came Into the World</td>\n",
       "      <td>In the 16th century, the Jews of Prague face p...</td>\n",
       "      <td>[{'id': 27, 'name': 'Horror'}, {'id': 878, 'na...</td>\n",
       "      <td>1.52413</td>\n",
       "      <td>6.738203</td>\n",
       "    </tr>\n",
       "  </tbody>\n",
       "</table>\n",
       "<p>5 rows × 40 columns</p>\n",
       "</div>"
      ],
      "text/plain": [
       "       tconst                 primaryTitle  startYear  runtimeMinutes  \\\n",
       "25  tt0004972        The Birth of a Nation       1915             195   \n",
       "47  tt0006864                  Intolerance       1916             163   \n",
       "77  tt0009968              Broken Blossoms       1919              90   \n",
       "88  tt0010323  The Cabinet of Dr. Caligari       1920              76   \n",
       "97  tt0011237                    The Golem       1920              76   \n",
       "\n",
       "    averageRating  numVotes  genre_Action  genre_Adult  genre_Adventure  \\\n",
       "25            6.2     24983         False        False            False   \n",
       "47            7.7     15734         False        False            False   \n",
       "77            7.3     10473         False        False            False   \n",
       "88            8.0     64645         False        False            False   \n",
       "97            7.2      7867         False        False            False   \n",
       "\n",
       "    genre_Animation  ...  genre_Talk-Show  genre_Thriller  genre_War  \\\n",
       "25            False  ...            False           False       True   \n",
       "47            False  ...            False           False      False   \n",
       "77            False  ...            False           False      False   \n",
       "88            False  ...            False            True      False   \n",
       "97            False  ...            False           False      False   \n",
       "\n",
       "    genre_Western    imdb_id  \\\n",
       "25          False  tt0004972   \n",
       "47          False  tt0006864   \n",
       "77          False  tt0009968   \n",
       "88          False  tt0010323   \n",
       "97          False  tt0011237   \n",
       "\n",
       "                                               title  \\\n",
       "25                             The Birth of a Nation   \n",
       "47  Intolerance: Love's Struggle Throughout the Ages   \n",
       "77                                   Broken Blossoms   \n",
       "88                       The Cabinet of Dr. Caligari   \n",
       "97             The Golem: How He Came Into the World   \n",
       "\n",
       "                                             overview  \\\n",
       "25  The Birth of A Nation is a silent film from 19...   \n",
       "47  The story of a poor young woman, separated by ...   \n",
       "77  Broken Blossoms is an American silent film fro...   \n",
       "88  The Cabinet of Dr. Caligari is eerie and expre...   \n",
       "97  In the 16th century, the Jews of Prague face p...   \n",
       "\n",
       "                                               genres  popularity     score  \n",
       "25  [{'id': 18, 'name': 'Drama'}, {'id': 36, 'name...    5.113205  6.216933  \n",
       "47                      [{'id': 18, 'name': 'Drama'}]    4.282118  7.227251  \n",
       "77  [{'id': 18, 'name': 'Drama'}, {'id': 10749, 'n...    3.185824  6.861504  \n",
       "88  [{'id': 18, 'name': 'Drama'}, {'id': 27, 'name...    7.191271  7.814279  \n",
       "97  [{'id': 27, 'name': 'Horror'}, {'id': 878, 'na...     1.52413  6.738203  \n",
       "\n",
       "[5 rows x 40 columns]"
      ]
     },
     "execution_count": 14,
     "metadata": {},
     "output_type": "execute_result"
    }
   ],
   "source": [
    "df2.head()"
   ]
  },
  {
   "cell_type": "code",
   "execution_count": 15,
   "metadata": {},
   "outputs": [
    {
     "data": {
      "text/html": [
       "<div>\n",
       "<style scoped>\n",
       "    .dataframe tbody tr th:only-of-type {\n",
       "        vertical-align: middle;\n",
       "    }\n",
       "\n",
       "    .dataframe tbody tr th {\n",
       "        vertical-align: top;\n",
       "    }\n",
       "\n",
       "    .dataframe thead th {\n",
       "        text-align: right;\n",
       "    }\n",
       "</style>\n",
       "<table border=\"1\" class=\"dataframe\">\n",
       "  <thead>\n",
       "    <tr style=\"text-align: right;\">\n",
       "      <th></th>\n",
       "      <th>title</th>\n",
       "      <th>numVotes</th>\n",
       "      <th>averageRating</th>\n",
       "      <th>score</th>\n",
       "      <th>startYear</th>\n",
       "      <th>runtimeMinutes</th>\n",
       "      <th>overview</th>\n",
       "    </tr>\n",
       "  </thead>\n",
       "  <tbody>\n",
       "    <tr>\n",
       "      <th>15141</th>\n",
       "      <td>The Shawshank Redemption</td>\n",
       "      <td>2664730</td>\n",
       "      <td>9.3</td>\n",
       "      <td>9.291182</td>\n",
       "      <td>1994</td>\n",
       "      <td>142</td>\n",
       "      <td>Framed in the 1940s for the double murder of h...</td>\n",
       "    </tr>\n",
       "    <tr>\n",
       "      <th>8009</th>\n",
       "      <td>The Godfather</td>\n",
       "      <td>1846637</td>\n",
       "      <td>9.2</td>\n",
       "      <td>9.187711</td>\n",
       "      <td>1972</td>\n",
       "      <td>175</td>\n",
       "      <td>Spanning the years 1945 to 1955, a chronicle o...</td>\n",
       "    </tr>\n",
       "    <tr>\n",
       "      <th>24019</th>\n",
       "      <td>The Dark Knight</td>\n",
       "      <td>2637712</td>\n",
       "      <td>9.0</td>\n",
       "      <td>8.991974</td>\n",
       "      <td>2008</td>\n",
       "      <td>152</td>\n",
       "      <td>Batman raises the stakes in his war on crime. ...</td>\n",
       "    </tr>\n",
       "    <tr>\n",
       "      <th>18015</th>\n",
       "      <td>The Lord of the Rings: The Return of the King</td>\n",
       "      <td>1837114</td>\n",
       "      <td>9.0</td>\n",
       "      <td>8.988491</td>\n",
       "      <td>2003</td>\n",
       "      <td>201</td>\n",
       "      <td>Aragorn is revealed as the heir to the ancient...</td>\n",
       "    </tr>\n",
       "    <tr>\n",
       "      <th>14667</th>\n",
       "      <td>Schindler's List</td>\n",
       "      <td>1349325</td>\n",
       "      <td>9.0</td>\n",
       "      <td>8.984355</td>\n",
       "      <td>1993</td>\n",
       "      <td>195</td>\n",
       "      <td>The true story of how businessman Oskar Schind...</td>\n",
       "    </tr>\n",
       "    <tr>\n",
       "      <th>...</th>\n",
       "      <td>...</td>\n",
       "      <td>...</td>\n",
       "      <td>...</td>\n",
       "      <td>...</td>\n",
       "      <td>...</td>\n",
       "      <td>...</td>\n",
       "      <td>...</td>\n",
       "    </tr>\n",
       "    <tr>\n",
       "      <th>25022</th>\n",
       "      <td>The Hottie &amp; The Nottie</td>\n",
       "      <td>38426</td>\n",
       "      <td>1.9</td>\n",
       "      <td>2.636103</td>\n",
       "      <td>2008</td>\n",
       "      <td>91</td>\n",
       "      <td>Nate moves to L.A. to track down Cristabel, th...</td>\n",
       "    </tr>\n",
       "    <tr>\n",
       "      <th>19956</th>\n",
       "      <td>Superbabies: Baby Geniuses 2</td>\n",
       "      <td>31139</td>\n",
       "      <td>1.5</td>\n",
       "      <td>2.453893</td>\n",
       "      <td>2004</td>\n",
       "      <td>88</td>\n",
       "      <td>Following on from the plot of the last movie, ...</td>\n",
       "    </tr>\n",
       "    <tr>\n",
       "      <th>6362</th>\n",
       "      <td>Manos: The Hands of Fate</td>\n",
       "      <td>36521</td>\n",
       "      <td>1.6</td>\n",
       "      <td>2.420446</td>\n",
       "      <td>1966</td>\n",
       "      <td>70</td>\n",
       "      <td>A family gets lost on the road and stumbles up...</td>\n",
       "    </tr>\n",
       "    <tr>\n",
       "      <th>27529</th>\n",
       "      <td>Disaster Movie</td>\n",
       "      <td>91869</td>\n",
       "      <td>1.9</td>\n",
       "      <td>2.241326</td>\n",
       "      <td>2008</td>\n",
       "      <td>87</td>\n",
       "      <td>In DISASTER MOVIE, the filmmaking team behind ...</td>\n",
       "    </tr>\n",
       "    <tr>\n",
       "      <th>30659</th>\n",
       "      <td>Justin Bieber: Never Say Never</td>\n",
       "      <td>76287</td>\n",
       "      <td>1.6</td>\n",
       "      <td>2.032357</td>\n",
       "      <td>2011</td>\n",
       "      <td>105</td>\n",
       "      <td>Tells the story of Justin Bieber, the kid from...</td>\n",
       "    </tr>\n",
       "  </tbody>\n",
       "</table>\n",
       "<p>9756 rows × 7 columns</p>\n",
       "</div>"
      ],
      "text/plain": [
       "                                               title  numVotes  averageRating  \\\n",
       "15141                       The Shawshank Redemption   2664730            9.3   \n",
       "8009                                   The Godfather   1846637            9.2   \n",
       "24019                                The Dark Knight   2637712            9.0   \n",
       "18015  The Lord of the Rings: The Return of the King   1837114            9.0   \n",
       "14667                               Schindler's List   1349325            9.0   \n",
       "...                                              ...       ...            ...   \n",
       "25022                        The Hottie & The Nottie     38426            1.9   \n",
       "19956                   Superbabies: Baby Geniuses 2     31139            1.5   \n",
       "6362                        Manos: The Hands of Fate     36521            1.6   \n",
       "27529                                 Disaster Movie     91869            1.9   \n",
       "30659                 Justin Bieber: Never Say Never     76287            1.6   \n",
       "\n",
       "          score  startYear  runtimeMinutes  \\\n",
       "15141  9.291182       1994             142   \n",
       "8009   9.187711       1972             175   \n",
       "24019  8.991974       2008             152   \n",
       "18015  8.988491       2003             201   \n",
       "14667  8.984355       1993             195   \n",
       "...         ...        ...             ...   \n",
       "25022  2.636103       2008              91   \n",
       "19956  2.453893       2004              88   \n",
       "6362   2.420446       1966              70   \n",
       "27529  2.241326       2008              87   \n",
       "30659  2.032357       2011             105   \n",
       "\n",
       "                                                overview  \n",
       "15141  Framed in the 1940s for the double murder of h...  \n",
       "8009   Spanning the years 1945 to 1955, a chronicle o...  \n",
       "24019  Batman raises the stakes in his war on crime. ...  \n",
       "18015  Aragorn is revealed as the heir to the ancient...  \n",
       "14667  The true story of how businessman Oskar Schind...  \n",
       "...                                                  ...  \n",
       "25022  Nate moves to L.A. to track down Cristabel, th...  \n",
       "19956  Following on from the plot of the last movie, ...  \n",
       "6362   A family gets lost on the road and stumbles up...  \n",
       "27529  In DISASTER MOVIE, the filmmaking team behind ...  \n",
       "30659  Tells the story of Justin Bieber, the kid from...  \n",
       "\n",
       "[9756 rows x 7 columns]"
      ]
     },
     "execution_count": 15,
     "metadata": {},
     "output_type": "execute_result"
    }
   ],
   "source": [
    "#Sort movies based on score calculated above\n",
    "df2 = df2.sort_values('score', ascending=False)\n",
    "\n",
    "#Print the top 15 movies\n",
    "df2[['title', 'numVotes', 'averageRating', 'score', 'startYear', 'runtimeMinutes', 'overview']]"
   ]
  },
  {
   "cell_type": "markdown",
   "metadata": {},
   "source": [
    "# Content-Based Recommender\n",
    "Plot Description Based Recommender"
   ]
  },
  {
   "cell_type": "code",
   "execution_count": 16,
   "metadata": {},
   "outputs": [],
   "source": [
    "df = df.reset_index(drop=True)"
   ]
  },
  {
   "cell_type": "code",
   "execution_count": 26,
   "metadata": {},
   "outputs": [
    {
     "data": {
      "text/html": [
       "<div>\n",
       "<style scoped>\n",
       "    .dataframe tbody tr th:only-of-type {\n",
       "        vertical-align: middle;\n",
       "    }\n",
       "\n",
       "    .dataframe tbody tr th {\n",
       "        vertical-align: top;\n",
       "    }\n",
       "\n",
       "    .dataframe thead th {\n",
       "        text-align: right;\n",
       "    }\n",
       "</style>\n",
       "<table border=\"1\" class=\"dataframe\">\n",
       "  <thead>\n",
       "    <tr style=\"text-align: right;\">\n",
       "      <th></th>\n",
       "      <th>tconst</th>\n",
       "      <th>primaryTitle</th>\n",
       "      <th>startYear</th>\n",
       "      <th>runtimeMinutes</th>\n",
       "      <th>averageRating</th>\n",
       "      <th>numVotes</th>\n",
       "      <th>genre_Action</th>\n",
       "      <th>genre_Adult</th>\n",
       "      <th>genre_Adventure</th>\n",
       "      <th>genre_Animation</th>\n",
       "      <th>...</th>\n",
       "      <th>genre_Sport</th>\n",
       "      <th>genre_Talk-Show</th>\n",
       "      <th>genre_Thriller</th>\n",
       "      <th>genre_War</th>\n",
       "      <th>genre_Western</th>\n",
       "      <th>imdb_id</th>\n",
       "      <th>title</th>\n",
       "      <th>overview</th>\n",
       "      <th>genres</th>\n",
       "      <th>popularity</th>\n",
       "    </tr>\n",
       "  </thead>\n",
       "  <tbody>\n",
       "    <tr>\n",
       "      <th>0</th>\n",
       "      <td>tt0000574</td>\n",
       "      <td>The Story of the Kelly Gang</td>\n",
       "      <td>1906</td>\n",
       "      <td>70</td>\n",
       "      <td>6.0</td>\n",
       "      <td>797</td>\n",
       "      <td>True</td>\n",
       "      <td>False</td>\n",
       "      <td>True</td>\n",
       "      <td>False</td>\n",
       "      <td>...</td>\n",
       "      <td>False</td>\n",
       "      <td>False</td>\n",
       "      <td>False</td>\n",
       "      <td>False</td>\n",
       "      <td>False</td>\n",
       "      <td>tt0000574</td>\n",
       "      <td>The Story of the Kelly Gang</td>\n",
       "      <td>Just as Fritz Lang’s Metropolis (1927) is test...</td>\n",
       "      <td>[{'id': 36, 'name': 'History'}, {'id': 28, 'na...</td>\n",
       "      <td>0.290549</td>\n",
       "    </tr>\n",
       "    <tr>\n",
       "      <th>1</th>\n",
       "      <td>tt0002101</td>\n",
       "      <td>Cleopatra</td>\n",
       "      <td>1912</td>\n",
       "      <td>100</td>\n",
       "      <td>5.1</td>\n",
       "      <td>536</td>\n",
       "      <td>False</td>\n",
       "      <td>False</td>\n",
       "      <td>False</td>\n",
       "      <td>False</td>\n",
       "      <td>...</td>\n",
       "      <td>False</td>\n",
       "      <td>False</td>\n",
       "      <td>False</td>\n",
       "      <td>False</td>\n",
       "      <td>False</td>\n",
       "      <td>tt0002101</td>\n",
       "      <td>Cleopatra</td>\n",
       "      <td>The fabled queen of Egypt's affair with Roman ...</td>\n",
       "      <td>[{'id': 18, 'name': 'Drama'}, {'id': 36, 'name...</td>\n",
       "      <td>0.142542</td>\n",
       "    </tr>\n",
       "    <tr>\n",
       "      <th>2</th>\n",
       "      <td>tt0002130</td>\n",
       "      <td>Dante's Inferno</td>\n",
       "      <td>1911</td>\n",
       "      <td>71</td>\n",
       "      <td>7.0</td>\n",
       "      <td>2988</td>\n",
       "      <td>False</td>\n",
       "      <td>False</td>\n",
       "      <td>True</td>\n",
       "      <td>False</td>\n",
       "      <td>...</td>\n",
       "      <td>False</td>\n",
       "      <td>False</td>\n",
       "      <td>False</td>\n",
       "      <td>False</td>\n",
       "      <td>False</td>\n",
       "      <td>tt0002130</td>\n",
       "      <td>L'inferno</td>\n",
       "      <td>Loosely adapted from Dante's Divine Comedy and...</td>\n",
       "      <td>[{'id': 12, 'name': 'Adventure'}, {'id': 18, '...</td>\n",
       "      <td>0.801412</td>\n",
       "    </tr>\n",
       "    <tr>\n",
       "      <th>3</th>\n",
       "      <td>tt0002461</td>\n",
       "      <td>The Life and Death of King Richard III</td>\n",
       "      <td>1912</td>\n",
       "      <td>55</td>\n",
       "      <td>5.7</td>\n",
       "      <td>287</td>\n",
       "      <td>False</td>\n",
       "      <td>False</td>\n",
       "      <td>False</td>\n",
       "      <td>False</td>\n",
       "      <td>...</td>\n",
       "      <td>False</td>\n",
       "      <td>False</td>\n",
       "      <td>False</td>\n",
       "      <td>False</td>\n",
       "      <td>False</td>\n",
       "      <td>tt0002461</td>\n",
       "      <td>Richard III</td>\n",
       "      <td>Shakespeare's tragedy of the hump-backed Duke ...</td>\n",
       "      <td>[{'id': 18, 'name': 'Drama'}]</td>\n",
       "      <td>0.05131</td>\n",
       "    </tr>\n",
       "    <tr>\n",
       "      <th>4</th>\n",
       "      <td>tt0002844</td>\n",
       "      <td>Fantômas: In the Shadow of the Guillotine</td>\n",
       "      <td>1913</td>\n",
       "      <td>54</td>\n",
       "      <td>6.9</td>\n",
       "      <td>2328</td>\n",
       "      <td>False</td>\n",
       "      <td>False</td>\n",
       "      <td>False</td>\n",
       "      <td>False</td>\n",
       "      <td>...</td>\n",
       "      <td>False</td>\n",
       "      <td>False</td>\n",
       "      <td>False</td>\n",
       "      <td>False</td>\n",
       "      <td>False</td>\n",
       "      <td>tt0002844</td>\n",
       "      <td>Fantômas: In the Shadow of the Guillotine</td>\n",
       "      <td>For the arch-criminal Fantômas, no crime is to...</td>\n",
       "      <td>[{'id': 80, 'name': 'Crime'}, {'id': 18, 'name...</td>\n",
       "      <td>0.791727</td>\n",
       "    </tr>\n",
       "  </tbody>\n",
       "</table>\n",
       "<p>5 rows × 39 columns</p>\n",
       "</div>"
      ],
      "text/plain": [
       "      tconst                               primaryTitle  startYear  \\\n",
       "0  tt0000574                The Story of the Kelly Gang       1906   \n",
       "1  tt0002101                                  Cleopatra       1912   \n",
       "2  tt0002130                            Dante's Inferno       1911   \n",
       "3  tt0002461     The Life and Death of King Richard III       1912   \n",
       "4  tt0002844  Fantômas: In the Shadow of the Guillotine       1913   \n",
       "\n",
       "   runtimeMinutes  averageRating  numVotes  genre_Action  genre_Adult  \\\n",
       "0              70            6.0       797          True        False   \n",
       "1             100            5.1       536         False        False   \n",
       "2              71            7.0      2988         False        False   \n",
       "3              55            5.7       287         False        False   \n",
       "4              54            6.9      2328         False        False   \n",
       "\n",
       "   genre_Adventure  genre_Animation  ...  genre_Sport  genre_Talk-Show  \\\n",
       "0             True            False  ...        False            False   \n",
       "1            False            False  ...        False            False   \n",
       "2             True            False  ...        False            False   \n",
       "3            False            False  ...        False            False   \n",
       "4            False            False  ...        False            False   \n",
       "\n",
       "   genre_Thriller  genre_War  genre_Western    imdb_id  \\\n",
       "0           False      False          False  tt0000574   \n",
       "1           False      False          False  tt0002101   \n",
       "2           False      False          False  tt0002130   \n",
       "3           False      False          False  tt0002461   \n",
       "4           False      False          False  tt0002844   \n",
       "\n",
       "                                       title  \\\n",
       "0                The Story of the Kelly Gang   \n",
       "1                                  Cleopatra   \n",
       "2                                  L'inferno   \n",
       "3                                Richard III   \n",
       "4  Fantômas: In the Shadow of the Guillotine   \n",
       "\n",
       "                                            overview  \\\n",
       "0  Just as Fritz Lang’s Metropolis (1927) is test...   \n",
       "1  The fabled queen of Egypt's affair with Roman ...   \n",
       "2  Loosely adapted from Dante's Divine Comedy and...   \n",
       "3  Shakespeare's tragedy of the hump-backed Duke ...   \n",
       "4  For the arch-criminal Fantômas, no crime is to...   \n",
       "\n",
       "                                              genres  popularity  \n",
       "0  [{'id': 36, 'name': 'History'}, {'id': 28, 'na...    0.290549  \n",
       "1  [{'id': 18, 'name': 'Drama'}, {'id': 36, 'name...    0.142542  \n",
       "2  [{'id': 12, 'name': 'Adventure'}, {'id': 18, '...    0.801412  \n",
       "3                      [{'id': 18, 'name': 'Drama'}]     0.05131  \n",
       "4  [{'id': 80, 'name': 'Crime'}, {'id': 18, 'name...    0.791727  \n",
       "\n",
       "[5 rows x 39 columns]"
      ]
     },
     "execution_count": 26,
     "metadata": {},
     "output_type": "execute_result"
    }
   ],
   "source": [
    "df.head()"
   ]
  },
  {
   "cell_type": "code",
   "execution_count": 17,
   "metadata": {},
   "outputs": [
    {
     "data": {
      "text/plain": [
       "(39017, 39)"
      ]
     },
     "execution_count": 17,
     "metadata": {},
     "output_type": "execute_result"
    }
   ],
   "source": [
    "df.shape"
   ]
  },
  {
   "cell_type": "code",
   "execution_count": 18,
   "metadata": {},
   "outputs": [],
   "source": [
    "from sklearn.feature_extraction.text import TfidfVectorizer\n",
    "tfidf = TfidfVectorizer(stop_words='english') #Remove all english stop words such as 'the', 'a'\n",
    "df['overview'] = df['overview'].fillna('')\n",
    "tfidf_matrix = tfidf.fit_transform(df['overview'])\n",
    "\n",
    "size = tfidf_matrix.shape\n",
    "#We see that 70731 different words were used to describe the 39017 movies in our dataset."
   ]
  },
  {
   "cell_type": "code",
   "execution_count": 19,
   "metadata": {},
   "outputs": [],
   "source": [
    "from sklearn.metrics.pairwise import linear_kernel\n",
    "cosine_sim = linear_kernel(tfidf_matrix, tfidf_matrix)"
   ]
  },
  {
   "cell_type": "code",
   "execution_count": 20,
   "metadata": {},
   "outputs": [],
   "source": [
    "indices = pd.Series(df.index, index=df['title']).drop_duplicates()"
   ]
  },
  {
   "cell_type": "code",
   "execution_count": 21,
   "metadata": {},
   "outputs": [],
   "source": [
    "def get_recommendations(title, cosine_sim=cosine_sim):\n",
    "    idx = indices[title]\n",
    "    sim_scores = list(enumerate(cosine_sim[idx]))\n",
    "    sim_scores = sorted(sim_scores, key=lambda x: x[1], reverse=True)\n",
    "    sim_scores = sim_scores[1:11]\n",
    "    movie_indices = [i[0] for i in sim_scores]\n",
    "    return df['title'].iloc[movie_indices]\n"
   ]
  },
  {
   "cell_type": "code",
   "execution_count": 22,
   "metadata": {},
   "outputs": [
    {
     "data": {
      "text/plain": [
       "8601       The Godfather: Part II\n",
       "13421     The Godfather: Part III\n",
       "30958                  Blood Ties\n",
       "14522            Household Saints\n",
       "11135           Start Liquidation\n",
       "23275                    Election\n",
       "924      A Mother Should Be Loved\n",
       "17865           Short Sharp Shock\n",
       "3772            The Sign of Venus\n",
       "7338                 Violent City\n",
       "Name: title, dtype: object"
      ]
     },
     "execution_count": 22,
     "metadata": {},
     "output_type": "execute_result"
    }
   ],
   "source": [
    "get_recommendations('The Godfather')"
   ]
  },
  {
   "cell_type": "code",
   "execution_count": 23,
   "metadata": {},
   "outputs": [
    {
     "data": {
      "text/plain": [
       "18015        The Lord of the Rings: The Return of the King\n",
       "18546                                 Magic Christmas Tree\n",
       "34268                                                 Wolf\n",
       "34956                                       A Fighting Man\n",
       "21955                                        Underclassman\n",
       "16837    The Lord of the Rings: The Fellowship of the Ring\n",
       "18016                The Lord of the Rings: The Two Towers\n",
       "3072                                               Trapped\n",
       "1306                                  Daughter of Shanghai\n",
       "38436                                                Bling\n",
       "Name: title, dtype: object"
      ]
     },
     "execution_count": 23,
     "metadata": {},
     "output_type": "execute_result"
    }
   ],
   "source": [
    "get_recommendations('The Lord of the Rings')"
   ]
  },
  {
   "cell_type": "code",
   "execution_count": 24,
   "metadata": {},
   "outputs": [
    {
     "data": {
      "text/plain": [
       "14438                  Cop and ½\n",
       "3085                  The Window\n",
       "29843            Daydream Nation\n",
       "2844     Last of the Wild Horses\n",
       "17651         Mark Strikes Again\n",
       "12057                   No Mercy\n",
       "20270                   Showtime\n",
       "978             She Loves Me Not\n",
       "35759                   Survivor\n",
       "8411                     Sssssss\n",
       "Name: title, dtype: object"
      ]
     },
     "execution_count": 24,
     "metadata": {},
     "output_type": "execute_result"
    }
   ],
   "source": [
    "get_recommendations('Pineapple Express')"
   ]
  },
  {
   "cell_type": "code",
   "execution_count": 25,
   "metadata": {},
   "outputs": [
    {
     "data": {
      "text/plain": [
       "7601          Born to Win\n",
       "35740          It Follows\n",
       "26110    The Green Hornet\n",
       "33545        Almost Human\n",
       "15790        Commandments\n",
       "16546    Niagara, Niagara\n",
       "15565       Parallel Sons\n",
       "16831      Kissing a Fool\n",
       "19663            Intimacy\n",
       "32391        Abel's Field\n",
       "Name: title, dtype: object"
      ]
     },
     "execution_count": 25,
     "metadata": {},
     "output_type": "execute_result"
    }
   ],
   "source": [
    "get_recommendations('This Is the End')"
   ]
  },
  {
   "cell_type": "markdown",
   "metadata": {},
   "source": [
    "# Content-Based Recommender #2\n",
    "Credits, Genres, and Keywords Based Recommender"
   ]
  },
  {
   "cell_type": "code",
   "execution_count": null,
   "metadata": {},
   "outputs": [],
   "source": [
    "def recommend(movie):\n",
    "    index = movies[movies['title'] == movie].index[0]\n",
    "    similar_movies = sorted(enumerate(similarity[index]), key=lambda x: x[1], reverse=True)[1:6]\n",
    "\n",
    "    recommended_movies = []\n",
    "    recommended_movies_poster = []\n",
    "    for i in similar_movies:\n",
    "        movie_id = movies.iloc[i[0]].movie_id\n",
    "\n",
    "        recommended_movies.append(movies.iloc[i[0]].title)\n",
    "        recommended_movies_poster.append(fetch_poster(movie_id))\n",
    "    return recommended_movies , recommended_movies_poster"
   ]
  },
  {
   "cell_type": "code",
   "execution_count": null,
   "metadata": {},
   "outputs": [],
   "source": [
    "def get_recommendations(title, cosine_sim=cosine_sim):\n",
    "    idx = indices[title]\n",
    "    sim_scores = list(enumerate(cosine_sim[idx]))\n",
    "    sim_scores = sorted(sim_scores, key=lambda x: x[1], reverse=True)\n",
    "    sim_scores = sim_scores[1:11]\n",
    "    movie_indices = [i[0] for i in sim_scores]\n",
    "    return df['title'].iloc[movie_indices]"
   ]
  },
  {
   "cell_type": "code",
   "execution_count": 27,
   "metadata": {},
   "outputs": [],
   "source": [
    "import pickle\n",
    "pickle.dump(df , open('movies.pkl' , 'wb'))"
   ]
  },
  {
   "cell_type": "code",
   "execution_count": null,
   "metadata": {},
   "outputs": [],
   "source": [
    "pickle.dump(cosine_sim, open('similarity.pkl' , 'wb'))"
   ]
  },
  {
   "cell_type": "code",
   "execution_count": null,
   "metadata": {},
   "outputs": [],
   "source": []
  }
 ],
 "metadata": {
  "kernelspec": {
   "display_name": "Python 3.9.12 ('base')",
   "language": "python",
   "name": "python3"
  },
  "language_info": {
   "codemirror_mode": {
    "name": "ipython",
    "version": 3
   },
   "file_extension": ".py",
   "mimetype": "text/x-python",
   "name": "python",
   "nbconvert_exporter": "python",
   "pygments_lexer": "ipython3",
   "version": "3.9.12"
  },
  "orig_nbformat": 4,
  "vscode": {
   "interpreter": {
    "hash": "92f44b1c3a5e9a59a46c4705ba8cdd4d73408c72603eb7b15f7b3da805ee7ccf"
   }
  }
 },
 "nbformat": 4,
 "nbformat_minor": 2
}
